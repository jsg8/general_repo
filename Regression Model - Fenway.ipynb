{
 "cells": [
  {
   "cell_type": "code",
   "execution_count": 2032,
   "outputs": [],
   "source": [
    "# import packages\n",
    "\n",
    "import os\n",
    "\n",
    "import matplotlib.pyplot as plt\n",
    "import pandas as pd\n",
    "import numpy as np\n",
    "import sklearn as sk\n",
    "import seaborn as sns\n",
    "from sklearn.preprocessing import StandardScaler"
   ],
   "metadata": {
    "collapsed": false,
    "pycharm": {
     "name": "#%%\n"
    }
   }
  },
  {
   "cell_type": "code",
   "execution_count": 2033,
   "outputs": [],
   "source": [
    "# import all data\n",
    "\n",
    "directory =r\"C:\\Users\\jason\\DataspellProjects\\dsProject\\Txt_Files\"\n",
    "weather_location = r\"C:\\Users\\jason\\OneDrive - University of South Carolina\\Desktop\\Project Data\\Fenway Project\\Weather Data\\3027420.csv\"\n",
    "baseball_location = r\"C:\\Users\\jason\\OneDrive - University of South Carolina\\Desktop\\Project Data\\Fenway Project\\NewBaseball_Data.csv\"\n",
    "\n",
    "filenames = os.scandir(directory)\n",
    "with open('output.txt', 'w') as outfile:\n",
    "    for fname in filenames:\n",
    "        with open(fname) as infile:\n",
    "            outfile.write(infile.read().rstrip() + '\\n')\n",
    "\n",
    "baseball_data = pd.read_csv(baseball_location)\n",
    "weather_data = pd.read_csv(weather_location)"
   ],
   "metadata": {
    "collapsed": false,
    "pycharm": {
     "name": "#%%\n"
    }
   }
  },
  {
   "cell_type": "code",
   "execution_count": 2034,
   "outputs": [],
   "source": [
    "# convert txt file to DataFrame and see a preview\n",
    "\n",
    "raw_data = pd.read_csv(r'output.txt', dtype=object)\n",
    "\n",
    "# Create Column Names\n",
    "\n",
    "col_names = ['date', 'day_game_number', 'day_of_week', 'away','away_league', 'away_game_num', 'home', 'home_league', 'home_game_num', 'away_score', 'home_score', 'outs_number','time_of_day', 'completion', 'forfeit', 'protest', 'park_id', 'attendance', 'game_time_min', 'away_line_score', 'home_line_score', 'away_ab', 'away_hits', 'away_doubles', 'away_triples', 'away_hr', 'away_rbi', 'away_sac_hits','away_sac_flies', 'away_hbp', 'away_BB', 'away_IBB', 'away_k', 'away_SB', 'away_CS', 'away_GIDP', 'away_interference', 'away_LOB', 'away_pitchers_used', 'away_pitcher_ER', 'away_team_ER', 'away_WP','away_balks', 'away_PO', 'away_assists','away_errors', 'away_PB', 'away_DP', 'away_TP','home_ab', 'home_hits', 'home_doubles', 'home_triples', 'home_hr', 'home_rbi', 'home_sac_hits','away_sac_flies', 'home_hbp', 'home_BB', 'home_IBB', 'home_k', 'home_SB', 'home_CS', 'home_GIDP', 'home_interference', 'home_LOB', 'home_pitchers_used', 'home_pitcher_ER', 'home_team_ER', 'home_WP','home_balks', 'home_PO', 'home_assists','home_errors', 'home_PB', 'home_DP', 'home_TP','home_ump_id', 'home_ump_name','1b_ump_id', '1b_ump_name','2b_ump_id', '2b_ump_name','3b_ump_id', '3b_ump_name','LF_ump_id', 'LF_ump_name','RF_ump_id', 'RF_ump_name','away_manager_id', 'away_manager_name','home_manager_id', 'home_manager_name','WP_id','WP_name', 'LP_id', 'LP_name','saver_id','saver_name','gw_rbi_id','gw_rbi_name', 'away_SP_id', 'away_SP_name', 'home_SP_id', 'home_SP_name','away_1hitter_id','away_1hitter_name','away_1hitter_position','away_2hitter_id','away_2hitter_name','away_2hitter_position','away_3hitter_id','away_3hitter_name','away_3hitter_position','away_4hitter_id','away_4hitter_name','away_4hitter_position','away_5hitter_id','away_5hitter_name','away_5hitter_position','away_6hitter_id','away_6hitter_name','away_6hitter_position','away_7hitter_id','away_7hitter_name','away_7hitter_position','away_8hitter_id','away_8hitter_name','away_8hitter_position','away_9hitter_id','away_9hitter_name','away_9hitter_position','home_1hitter_id','home_1hitter_name','home_1hitter_position','home_2hitter_id','home_2hitter_name','home_2hitter_position','home_3hitter_id','home_3hitter_name','home_3hitter_position','home_4hitter_id','home_4hitter_name','home_4hitter_position','home_5hitter_id','home_5hitter_name','home_5hitter_position','home_6hitter_id','home_6hitter_name','home_6hitter_position','home_7hitter_id','home_7hitter_name','home_7hitter_position','home_8hitter_id','home_8hitter_name','home_8hitter_position','home_9hitter_id','home_9hitter_name','home_9hitter_position','add_info','acq_info']\n",
    "\n",
    "# add column names to DataFrame\n",
    "\n",
    "raw_data.columns = col_names\n",
    "\n",
    "# convert date to UTC\n",
    "\n",
    "raw_data['date'] = pd.to_datetime(raw_data['date'])\n",
    "\n",
    "# segment data into last 50 years and reset the index\n",
    "\n",
    "modern_data = raw_data[raw_data.date.dt.year > 1974]\n",
    "modern_data.index = pd.RangeIndex(start = 0, stop = int(len(modern_data)))\n",
    "\n",
    "# filter for Red Sox home games\n",
    "\n",
    "redsox_homegames = modern_data[modern_data['home'] == 'BOS']\n",
    "redsox_homegames.index = pd.RangeIndex(start = 0, stop = int(len(redsox_homegames)))"
   ],
   "metadata": {
    "collapsed": false,
    "pycharm": {
     "name": "#%%\n"
    }
   }
  },
  {
   "cell_type": "code",
   "execution_count": 2035,
   "outputs": [],
   "source": [
    "# Create DataFrame of Useable Variables\n",
    "\n",
    "redsox_usable = redsox_homegames[['date', 'day_of_week', 'away', 'home', 'away_score', 'home_score', 'time_of_day', 'attendance']]\n",
    "# Convert Weather Data Date Format & Reorder Columns\n",
    "\n",
    "weather_data['date'] = pd.to_datetime(weather_data['DATE'])\n",
    "weather_data = weather_data[['STATION', 'NAME', 'date', 'AWND', 'PRCP', 'PSUN', 'TAVG', 'TMAX', 'TMIN']]\n",
    "\n",
    "# Combine 2 DataFrames for all necessary data\n",
    "partial_data = pd.merge(redsox_usable, weather_data[['date','AWND', 'PRCP', 'PSUN', 'TAVG','TMAX', 'TMIN']], on = 'date')"
   ],
   "metadata": {
    "collapsed": false,
    "pycharm": {
     "name": "#%%\n"
    }
   }
  },
  {
   "cell_type": "code",
   "execution_count": null,
   "outputs": [],
   "source": [
    "# Create Custom Variables\n",
    "\n",
    "partial_data['mid_temp'] = partial_data['TMAX'] -(partial_data['TMAX'] - partial_data['TMIN'])/2\n",
    "partial_data['result'] = 0\n",
    "\n",
    "# Create classification lists for result boost\n",
    "missed_playoffs = [1976, 1977, 1978, 1979, 1980, 1981, 1982, 1983, 1984, 1985, 1987, 1989, 1991, 1992, 1993, 1994,1995, 1996, 1997, 2000, 2001, 2002, 2006, 2010, 2011, 2012, 2014, 2015, 2019, 2020]\n",
    "lost_alds = [1995, 1998, 2005, 2009, 2016, 2017]\n",
    "alds = [1988, 1990, 1999, 2003, 2008, 2021]\n",
    "alcs = [1975, 1986]\n",
    "ws = [2004, 2007, 2013, 2018]\n",
    "\n",
    "years_list = partial_data['date'].dt.year\n",
    "\n",
    "# incorporate result boost based on year-end result\n",
    "for i, j in enumerate(years_list):\n",
    "    if j in missed_playoffs:\n",
    "        partial_data['result'][i] = 0.95\n",
    "    elif j in lost_alds:\n",
    "        partial_data['result'][i] = 1.01\n",
    "    elif j in alds:\n",
    "        partial_data['result'][i] = 1.02\n",
    "    elif j in alcs:\n",
    "        partial_data['result'][i] = 1.03\n",
    "    else:\n",
    "        partial_data['result'][i] = 1.05\n",
    "\n",
    "partial_data['seas_adj_attendance'] = partial_data['attendance'].astype('float') * partial_data['result']"
   ],
   "metadata": {
    "collapsed": false,
    "pycharm": {
     "name": "#%%\n",
     "is_executing": true
    }
   }
  },
  {
   "cell_type": "code",
   "execution_count": 2037,
   "outputs": [
    {
     "data": {
      "text/plain": "<matplotlib.lines.Line2D at 0x262a27deda0>"
     },
     "execution_count": 2037,
     "metadata": {},
     "output_type": "execute_result"
    },
    {
     "data": {
      "text/plain": "<Figure size 432x288 with 1 Axes>",
      "image/png": "[encoded data removed]"
     },
     "metadata": {},
     "output_type": "display_data"
    }
   ],
   "source": [
    "# plot attendance adjusted for result\n",
    "\n",
    "sns.set_style('white')\n",
    "sns.kdeplot(x= 'seas_adj_attendance', data = partial_data, fill = True)\n",
    "plt.xlabel('Seasonally-Adjusted Attendance')\n",
    "plt.axvline(x = np.mean(partial_data['seas_adj_attendance']), ymin = 0, ymax =.94, color = 'gray')"
   ],
   "metadata": {
    "collapsed": false,
    "pycharm": {
     "name": "#%%\n"
    }
   }
  },
  {
   "cell_type": "code",
   "execution_count": 2038,
   "outputs": [],
   "source": [
    "# Add additional columns for additional baseball data\n",
    "\n",
    "columns = ['Year', 'Lg', 'W', 'L', 'Finish', 'RA/G', 'ERA', 'CG', 'tSho', 'SV','IP', 'H_Pitch', 'R_Pitch', 'ER', 'HR_Pitch', 'BB_Pitch', 'SO_Pitch','WHIP', 'SO9', 'HR9', 'DP', 'Fld%', 'PAge', 'PA', 'AB', 'R_Bat', 'H_Bat', '2B', '3B', 'HR_Bat', 'RBI', 'SB', 'CS', 'BB_Bat', 'SO_Bat', 'BA', 'OBP', 'SLG', 'OPS', 'DP.1', 'Fld%.1']\n",
    "\n",
    "# Match day-by-day game data with year-by-year averages\n",
    "\n",
    "years_unique = years_list.value_counts()\n",
    "\n",
    "years_keys = years_unique.keys().sort_values()\n",
    "\n",
    "full_data = []\n",
    "\n",
    "for i in years_keys:\n",
    "    data = pd.concat([baseball_data[baseball_data['Year'] == i]]*years_unique[i]).sort_index()\n",
    "    full_data.append(data)\n",
    "\n",
    "fill_data = pd.concat(full_data)\n",
    "fill_data.reset_index(inplace = True)\n",
    "fill_data['date'] = np.flip(partial_data['date'])\n",
    "\n",
    "fill_data['index'] = fill_data['date']\n",
    "fill_data['index'] = pd.to_datetime(fill_data['index'])\n",
    "fill_data.drop(new_data.columns[-1], axis = 1, inplace = True)\n",
    "fill_data.rename(columns = {'index':'date'}, inplace = True)\n",
    "final_data = partial_data.merge(fill_data, how  = 'left', on = 'date')\n",
    "final_data['attendance'] = final_data['attendance'].astype('float')\n",
    "\n",
    "final_data = final_data[final_data['attendance'] > 0]\n",
    "final_data = final_data[final_data.duplicated() == False]"
   ],
   "metadata": {
    "collapsed": false,
    "pycharm": {
     "name": "#%%\n"
    }
   }
  },
  {
   "cell_type": "code",
   "execution_count": 2039,
   "outputs": [],
   "source": [
    "# Convert weekdays into Dummy Variables\n",
    "\n",
    "dummies = pd.get_dummies(data = final_data[['day_of_week', 'time_of_day']], drop_first= False)\n",
    "dummies['date'] = final_data['date']\n"
   ],
   "metadata": {
    "collapsed": false,
    "pycharm": {
     "name": "#%%\n"
    }
   }
  },
  {
   "cell_type": "code",
   "execution_count": 2040,
   "outputs": [],
   "source": [
    "# prep model data\n",
    "\n",
    "final_data['PRCP'] = final_data['PRCP'].astype('float')\n",
    "final_data['PSUN'] = final_data['PSUN'].astype('float')\n",
    "\n",
    "inter_data = pd.merge(final_data, dummies, on ='date')"
   ],
   "metadata": {
    "collapsed": false,
    "pycharm": {
     "name": "#%%\n"
    }
   }
  },
  {
   "cell_type": "code",
   "execution_count": 2041,
   "outputs": [],
   "source": [
    "# Fill na's w/ Average Value\n",
    "\n",
    "inter_data['seas_adj_attendance'] = inter_data['seas_adj_attendance'].fillna(np.mean(inter_data['seas_adj_attendance']))\n",
    "inter_data['PRCP'] = inter_data['PRCP'].fillna(np.mean(inter_data['PRCP']))\n",
    "inter_data['PSUN'] = inter_data['PSUN'].fillna(np.mean(inter_data['PSUN']))"
   ],
   "metadata": {
    "collapsed": false,
    "pycharm": {
     "name": "#%%\n"
    }
   }
  },
  {
   "cell_type": "code",
   "execution_count": null,
   "outputs": [],
   "source": [
    "# Remove outliers\n",
    "\n",
    "filler_outfree = pd.DataFrame()\n",
    "\n",
    "# Columns that are excluded from outliers (more rain, more sun could have influence)\n",
    "\n",
    "keep_cols = ['PRCP', 'PSUN']\n",
    "\n",
    "for col in inter_data.columns:\n",
    "    if inter_data[col].dtype == 'uint8':\n",
    "        filler_outfree[col] = inter_data[col]\n",
    "    elif col in keep_cols:\n",
    "        filler_outfree[col] = inter_data[col]\n",
    "    elif inter_data[col].dtype == 'object':\n",
    "        None\n",
    "    else:\n",
    "        iqr = inter_data[col].quantile(.75) - inter_data[col].quantile(.25)\n",
    "        upper_lim = inter_data[col].quantile(.75) + 1.5*iqr\n",
    "        lower_lim = inter_data[col].quantile(.25) - 1.5*iqr\n",
    "        column = inter_data[col][(inter_data[col] < upper_lim) & (inter_data[col] > lower_lim)]\n",
    "        filler_outfree[col] = pd.concat([column])\n",
    "\n",
    "dayweek_cols = ['day_of_week_Mon','day_of_week_Tue','day_of_week_Wed','day_of_week_Thu','day_of_week_Fri','day_of_week_Sat','day_of_week_Sun']\n",
    "filler_outfree.reset_index(inplace = True)\n",
    "\n",
    "for i, j in enumerate(filler_outfree):\n",
    "    for col in dayweek_cols:\n",
    "        filler_outfree[col][i] = inter_data[col][i]\n",
    "\n",
    "model_data_outfree = filler_outfree.dropna()\n",
    "model_data_outfree = model_data_outfree.reset_index()\n",
    "model_data_outfree.drop(['level_0', 'index'], axis = 1, inplace = True)"
   ],
   "metadata": {
    "collapsed": false,
    "pycharm": {
     "name": "#%%\n",
     "is_executing": true
    }
   }
  },
  {
   "cell_type": "code",
   "execution_count": 2043,
   "outputs": [
    {
     "data": {
      "text/plain": "<AxesSubplot:>"
     },
     "execution_count": 2043,
     "metadata": {},
     "output_type": "execute_result"
    },
    {
     "data": {
      "text/plain": "<Figure size 720x720 with 2 Axes>",
      "image/png": "[encoded data removed]"
     },
     "metadata": {},
     "output_type": "display_data"
    }
   ],
   "source": [
    "# Determine Meaningful Correlations\n",
    "\n",
    "correls = inter_data.corr(method='pearson')\n",
    "correls_sig = pd.DataFrame(correls['seas_adj_attendance'][(correls['seas_adj_attendance'] > 0.25) | (correls['seas_adj_attendance'] < -0.25)])\n",
    "correls_sig.reset_index(inplace = True)\n",
    "correl_sig_cols = list(correls_sig['index'])\n",
    "del correl_sig_cols[0:6]\n",
    "\n",
    "# Heatmap of Meaningful Correlations\n",
    "corr_df = pd.DataFrame(correls['seas_adj_attendance'][correl_sig_cols])\n",
    "fig, ax  = plt.subplots(figsize = (10,10))\n",
    "sns.heatmap(corr_df, annot = True, cmap= sns.diverging_palette(220, 20 , n=25))"
   ],
   "metadata": {
    "collapsed": false,
    "pycharm": {
     "name": "#%%\n"
    }
   }
  },
  {
   "cell_type": "code",
   "execution_count": 2044,
   "outputs": [],
   "source": [
    "# Split into X and Y; Split into Train and Test\n",
    "\n",
    "cat_cols = ['PRCP', 'PSUN', 'mid_temp', 'day_of_week_Fri', 'day_of_week_Mon','day_of_week_Sat', 'day_of_week_Sun', 'day_of_week_Thu', 'day_of_week_Tue', 'day_of_week_Wed', 'time_of_day_D', 'time_of_day_N']\n",
    "\n",
    "all_cols = correl_sig_cols + cat_cols\n",
    "\n",
    "X = model_data_outfree[all_cols]\n",
    "Y = model_data_outfree['seas_adj_attendance']\n",
    "\n",
    "X_train, X_test, Y_train, Y_test = sk.model_selection.train_test_split(X, Y, test_size= 0.2)"
   ],
   "metadata": {
    "collapsed": false,
    "pycharm": {
     "name": "#%%\n"
    }
   }
  },
  {
   "cell_type": "code",
   "execution_count": 2045,
   "outputs": [],
   "source": [
    "# scale numeric features\n",
    "\n",
    "scaler = StandardScaler()\n",
    "X_train[correl_sig_cols] = scaler.fit_transform(X_train[correl_sig_cols])\n",
    "X_test[correl_sig_cols] = scaler.transform(X_test[correl_sig_cols])"
   ],
   "metadata": {
    "collapsed": false,
    "pycharm": {
     "name": "#%%\n"
    }
   }
  },
  {
   "cell_type": "code",
   "execution_count": null,
   "outputs": [],
   "source": [
    "# Build base of model\n",
    "\n",
    "model = sk.linear_model.LassoCV(cv = 5, random_state= 0 , max_iter= 10000)\n",
    "model.fit(X_train,Y_train)"
   ],
   "metadata": {
    "collapsed": false,
    "pycharm": {
     "name": "#%%\n",
     "is_executing": true
    }
   }
  },
  {
   "cell_type": "code",
   "execution_count": 2047,
   "outputs": [
    {
     "name": "stdout",
     "output_type": "stream",
     "text": [
      "Intercept: 27402.453815422574\n",
      "Root Mean squared error (RMSE): 2096.373234159788\n",
      "R^2: 0.6628401906029746\n"
     ]
    }
   ],
   "source": [
    "# Model on Train Data\n",
    "\n",
    "Y_pred_train = model.predict(X_train)\n",
    "\n",
    "r2_train = sk.metrics.r2_score(Y_train, Y_pred_train)\n",
    "rmse_train = np.sqrt(sk.metrics.mean_squared_error(Y_train, Y_pred_train))\n",
    "\n",
    "print('Intercept:', model.intercept_)\n",
    "print('Root Mean squared error (RMSE):' , rmse_train)\n",
    "print('R^2:', r2_train)"
   ],
   "metadata": {
    "collapsed": false,
    "pycharm": {
     "name": "#%%\n"
    }
   }
  },
  {
   "cell_type": "code",
   "execution_count": 2048,
   "outputs": [
    {
     "name": "stdout",
     "output_type": "stream",
     "text": [
      "Intercept: 27402.453815422574\n",
      "Root Mean squared error (RMSE): 2278.637173830368\n",
      "R^2: 0.6593653785602362\n"
     ]
    }
   ],
   "source": [
    "# Model on Test Data\n",
    "\n",
    "Y_pred_test = model.predict(X_test)\n",
    "\n",
    "r2_test = sk.metrics.r2_score(Y_test, Y_pred_test)\n",
    "rmse_test = np.sqrt(sk.metrics.mean_squared_error(Y_test, Y_pred_test))\n",
    "\n",
    "print('Intercept:', model.intercept_)\n",
    "print('Root Mean squared error (RMSE):' , rmse_test)\n",
    "print('R^2:', r2_test)"
   ],
   "metadata": {
    "collapsed": false,
    "pycharm": {
     "name": "#%%\n"
    }
   }
  },
  {
   "cell_type": "markdown",
   "source": [],
   "metadata": {
    "collapsed": false,
    "pycharm": {
     "name": "#%% md\n"
    }
   }
  }
 ],
 "metadata": {
  "kernelspec": {
   "display_name": "Python 3",
   "language": "python",
   "name": "python3"
  },
  "language_info": {
   "codemirror_mode": {
    "name": "ipython",
    "version": 2
   },
   "file_extension": ".py",
   "mimetype": "text/x-python",
   "name": "python",
   "nbconvert_exporter": "python",
   "pygments_lexer": "ipython2",
   "version": "2.7.6"
  }
 },
 "nbformat": 4,
 "nbformat_minor": 0
}